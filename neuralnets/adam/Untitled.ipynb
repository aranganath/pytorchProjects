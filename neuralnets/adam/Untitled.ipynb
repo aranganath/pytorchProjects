{
 "cells": [
  {
   "cell_type": "code",
   "execution_count": 1,
   "metadata": {},
   "outputs": [],
   "source": [
    "import numpy as np\n",
    "from sklearn.preprocessing import OneHotEncoder\n",
    "from IPython.core.debugger import set_trace\n",
    "import torch\n",
    "import torch.nn as nn\n",
    "import torch.nn.functional as F\n",
    "import torch.optim as optim\n",
    "from torchvision import datasets, transforms\n",
    "from torch.autograd import Variable"
   ]
  },
  {
   "cell_type": "code",
   "execution_count": 2,
   "metadata": {},
   "outputs": [],
   "source": [
    "class AutoEncoder(nn.Module):\n",
    "        def __init__(self):\n",
    "                super(AutoEncoder,self).__init__()\n",
    "                self.encoder = nn.Sequential(\n",
    "                        nn.Conv2d(15,32,kernel_size=5),\n",
    "                        nn.Sigmoid(),\n",
    "                        nn.Conv2d(32,64,kernel_size=5),\n",
    "                        nn.Sigmoid())\n",
    "                self.decoder = nn.Sequential(\n",
    "                        nn.ConvTranspose2d(64,32,kernel_size=5),\n",
    "                        nn.Sigmoid(),\n",
    "                        nn.ConvTranspose2d(32,15,kernel_size=5),\n",
    "                        nn.Sigmoid())\n",
    "\n",
    "        def forward(self,x):\n",
    "                x = self.encoder(x)\n",
    "                x = self.decoder(x)\n",
    "                return x"
   ]
  },
  {
   "cell_type": "code",
   "execution_count": null,
   "metadata": {},
   "outputs": [],
   "source": []
  }
 ],
 "metadata": {
  "kernelspec": {
   "display_name": "Python 2",
   "language": "python",
   "name": "python2"
  },
  "language_info": {
   "codemirror_mode": {
    "name": "ipython",
    "version": 2
   },
   "file_extension": ".py",
   "mimetype": "text/x-python",
   "name": "python",
   "nbconvert_exporter": "python",
   "pygments_lexer": "ipython2",
   "version": "2.7.15"
  }
 },
 "nbformat": 4,
 "nbformat_minor": 2
}
